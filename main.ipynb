{
 "cells": [
  {
   "cell_type": "code",
   "id": "initial_id",
   "metadata": {
    "collapsed": true,
    "ExecuteTime": {
     "end_time": "2025-03-28T20:29:48.621345Z",
     "start_time": "2025-03-28T20:29:47.919682Z"
    }
   },
   "source": [
    "# setup = get kaggle api key; download dataset from kaggle and unzip it\n",
    "import pandas as pd\n",
    "import numpy as np\n",
    "import matplotlib.pyplot as plt\n",
    "import os\n",
    "\n",
    "# load each dataset\n",
    "holidayEventsData = pd.read_csv('store-sales-time-series-forecasting/holidays_events.csv')\n",
    "oilData = pd.read_csv('store-sales-time-series-forecasting/oil.csv')\n",
    "storesData = pd.read_csv('store-sales-time-series-forecasting/stores.csv')\n",
    "testData = pd.read_csv('store-sales-time-series-forecasting/test.csv')\n",
    "trainData = pd.read_csv('store-sales-time-series-forecasting/train.csv')\n",
    "transactionsData = pd.read_csv('store-sales-time-series-forecasting/transactions.csv')"
   ],
   "outputs": [],
   "execution_count": 2
  },
  {
   "metadata": {},
   "cell_type": "code",
   "outputs": [],
   "execution_count": null,
   "source": "",
   "id": "5e257ed7f8cb1c90"
  }
 ],
 "metadata": {
  "kernelspec": {
   "display_name": "Python 3",
   "language": "python",
   "name": "python3"
  },
  "language_info": {
   "codemirror_mode": {
    "name": "ipython",
    "version": 2
   },
   "file_extension": ".py",
   "mimetype": "text/x-python",
   "name": "python",
   "nbconvert_exporter": "python",
   "pygments_lexer": "ipython2",
   "version": "2.7.6"
  }
 },
 "nbformat": 4,
 "nbformat_minor": 5
}
