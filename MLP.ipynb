{
 "cells": [
  {
   "cell_type": "code",
   "id": "initial_id",
   "metadata": {
    "collapsed": true,
    "ExecuteTime": {
     "end_time": "2025-04-21T03:14:35.783946Z",
     "start_time": "2025-04-21T03:14:34.978657Z"
    }
   },
   "source": [
    "# submission best = 0.65078\n",
    "import numpy as np\n",
    "from numpy import log1p\n",
    "import pandas as pd\n",
    "import matplotlib.pyplot as plt\n",
    "from sklearn.preprocessing import StandardScaler\n",
    "from sklearn.feature_selection import SelectKBest, f_regression, mutual_info_regression\n",
    "from sklearn.neural_network import MLPRegressor\n",
    "\n",
    "# load each dataset\n",
    "holidayEventsData = pd.read_csv('store-sales-time-series-forecasting/holidays_events.csv')\n",
    "oilData = pd.read_csv('store-sales-time-series-forecasting/oil.csv')\n",
    "storesData = pd.read_csv('store-sales-time-series-forecasting/stores.csv')\n",
    "transactionsData = pd.read_csv('store-sales-time-series-forecasting/transactions.csv')\n",
    "testData = pd.read_csv('store-sales-time-series-forecasting/test.csv', parse_dates=['date'])\n",
    "trainData = pd.read_csv('store-sales-time-series-forecasting/train.csv', parse_dates=['date'])"
   ],
   "outputs": [],
   "execution_count": 15
  },
  {
   "metadata": {
    "ExecuteTime": {
     "end_time": "2025-04-21T03:14:36.549282Z",
     "start_time": "2025-04-21T03:14:36.495400Z"
    }
   },
   "cell_type": "code",
   "source": [
    "# change to datetime\n",
    "trainData['date'] = pd.to_datetime(trainData['date'])\n",
    "testData['date'] = pd.to_datetime(testData['date'])\n",
    "oilData['date'] = pd.to_datetime(oilData['date'])\n",
    "holidayEventsData['date'] = pd.to_datetime(holidayEventsData['date'])\n",
    "transactionsData['date'] = pd.to_datetime(transactionsData['date'])"
   ],
   "id": "59a0c034c2db4552",
   "outputs": [],
   "execution_count": 16
  },
  {
   "metadata": {
    "ExecuteTime": {
     "end_time": "2025-04-21T03:14:38.264482Z",
     "start_time": "2025-04-21T03:14:38.206389Z"
    }
   },
   "cell_type": "code",
   "source": [
    "# fix similar column names\n",
    "storesData.rename(columns={'type': 'store_type'}, inplace=True)\n",
    "holidayEventsData.rename(columns={'type': 'holiday_type'}, inplace=True)\n",
    "\n",
    "# fill missing\n",
    "oilData['dcoilwtico'].fillna(method='bfill', inplace=True)\n",
    "\n",
    "#remove 0 sales\n",
    "trainData = trainData[trainData['sales'] > 0]\n",
    "\n",
    "# normalize sales\n",
    "trainData['sales'] = np.log1p(trainData['sales'])"
   ],
   "id": "f5993e9080d296c3",
   "outputs": [
    {
     "name": "stderr",
     "output_type": "stream",
     "text": [
      "/var/folders/t8/kft3r9x14dv07wt1prr3tmc00000gn/T/ipykernel_63577/3701330145.py:6: FutureWarning: A value is trying to be set on a copy of a DataFrame or Series through chained assignment using an inplace method.\n",
      "The behavior will change in pandas 3.0. This inplace method will never work because the intermediate object on which we are setting values always behaves as a copy.\n",
      "\n",
      "For example, when doing 'df[col].method(value, inplace=True)', try using 'df.method({col: value}, inplace=True)' or df[col] = df[col].method(value) instead, to perform the operation inplace on the original object.\n",
      "\n",
      "\n",
      "  oilData['dcoilwtico'].fillna(method='bfill', inplace=True)\n",
      "/var/folders/t8/kft3r9x14dv07wt1prr3tmc00000gn/T/ipykernel_63577/3701330145.py:6: FutureWarning: Series.fillna with 'method' is deprecated and will raise in a future version. Use obj.ffill() or obj.bfill() instead.\n",
      "  oilData['dcoilwtico'].fillna(method='bfill', inplace=True)\n"
     ]
    }
   ],
   "execution_count": 17
  },
  {
   "metadata": {
    "ExecuteTime": {
     "end_time": "2025-04-21T03:14:40.949343Z",
     "start_time": "2025-04-21T03:14:39.552857Z"
    }
   },
   "cell_type": "code",
   "source": [
    "# merging data\n",
    "train = trainData.merge(storesData, on='store_nbr', how='left')\n",
    "train = train.merge(oilData, on='date', how='left')\n",
    "train = train.merge(holidayEventsData, on='date', how='left')\n",
    "train.fillna(0, inplace=True)\n",
    "testData = testData.merge(storesData, on='store_nbr', how='left')\n",
    "testData = testData.merge(oilData, on='date', how='left')\n",
    "testData = testData.merge(holidayEventsData, on='date', how='left')\n",
    "testData.fillna(0, inplace=True)"
   ],
   "id": "6df55c996ec5e93e",
   "outputs": [],
   "execution_count": 18
  },
  {
   "metadata": {
    "ExecuteTime": {
     "end_time": "2025-04-21T03:14:42.157135Z",
     "start_time": "2025-04-21T03:14:41.645041Z"
    }
   },
   "cell_type": "code",
   "source": [
    "# convert all categorical to numerical\n",
    "for col in ['family', 'city', 'state', 'store_type', 'holiday_type', 'locale', 'description', 'locale_name', 'transferred']:\n",
    "    if col in train.columns:\n",
    "        train[col] = train[col].astype('category').cat.codes\n",
    "        testData[col] = testData[col].astype('category').cat.codes"
   ],
   "id": "90fc4b22d708fc4",
   "outputs": [],
   "execution_count": 19
  },
  {
   "metadata": {
    "ExecuteTime": {
     "end_time": "2025-04-21T03:14:42.757308Z",
     "start_time": "2025-04-21T03:14:42.754751Z"
    }
   },
   "cell_type": "code",
   "source": "clf = MLPRegressor(hidden_layer_sizes=(100, 100), activation='relu', solver='adam', alpha=1e-5, max_iter=1000, learning_rate = 'adaptive',random_state=1)",
   "id": "4a31defaadaf49a0",
   "outputs": [],
   "execution_count": 20
  },
  {
   "metadata": {
    "ExecuteTime": {
     "end_time": "2025-04-21T03:14:43.883917Z",
     "start_time": "2025-04-21T03:14:43.711206Z"
    }
   },
   "cell_type": "code",
   "source": [
    "# feature selection\n",
    "xTrain = train.drop(['date', 'id', 'sales'], axis=1)\n",
    "xTest = testData.drop(['date', 'id'], axis=1)\n",
    "yTrain = train['sales']\n",
    "selector = SelectKBest(f_regression, k=10)\n",
    "xTrain = selector.fit_transform(xTrain, yTrain)\n",
    "xTest = selector.transform(xTest)"
   ],
   "id": "2a20dc80f585469d",
   "outputs": [],
   "execution_count": 21
  },
  {
   "metadata": {
    "ExecuteTime": {
     "end_time": "2025-04-21T03:14:44.740464Z",
     "start_time": "2025-04-21T03:14:44.648263Z"
    }
   },
   "cell_type": "code",
   "source": [
    "# scale data\n",
    "scaler = StandardScaler()\n",
    "xTrain = scaler.fit_transform(xTrain)\n",
    "xTest = scaler.transform(xTest)"
   ],
   "id": "7a268276baa36f3b",
   "outputs": [],
   "execution_count": 22
  },
  {
   "metadata": {
    "ExecuteTime": {
     "end_time": "2025-04-21T03:24:52.859344Z",
     "start_time": "2025-04-21T03:14:45.557594Z"
    }
   },
   "cell_type": "code",
   "source": [
    "# fit model\n",
    "clf.fit(xTrain, yTrain)\n",
    "yPred = np.expm1(clf.predict(xTest))"
   ],
   "id": "e9bd4ee89e7d3238",
   "outputs": [],
   "execution_count": 23
  },
  {
   "metadata": {
    "ExecuteTime": {
     "end_time": "2025-04-21T03:25:59.775476Z",
     "start_time": "2025-04-21T03:25:59.741663Z"
    }
   },
   "cell_type": "code",
   "source": [
    "# export to csv in format (id, sales)\n",
    "testData['sales'] = yPred\n",
    "testData[['id', 'sales']].to_csv('submission.csv', index=False)"
   ],
   "id": "3232f0603273d570",
   "outputs": [],
   "execution_count": 24
  },
  {
   "metadata": {},
   "cell_type": "markdown",
   "source": "",
   "id": "4fe6e8906766e93e"
  }
 ],
 "metadata": {
  "kernelspec": {
   "display_name": "Python 3",
   "language": "python",
   "name": "python3"
  },
  "language_info": {
   "codemirror_mode": {
    "name": "ipython",
    "version": 2
   },
   "file_extension": ".py",
   "mimetype": "text/x-python",
   "name": "python",
   "nbconvert_exporter": "python",
   "pygments_lexer": "ipython2",
   "version": "2.7.6"
  }
 },
 "nbformat": 4,
 "nbformat_minor": 5
}
